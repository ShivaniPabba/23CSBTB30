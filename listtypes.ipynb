{
  "nbformat": 4,
  "nbformat_minor": 0,
  "metadata": {
    "colab": {
      "provenance": [],
      "authorship_tag": "ABX9TyOHAK0GCbZp+rEZ2+FnkvV3",
      "include_colab_link": true
    },
    "kernelspec": {
      "name": "python3",
      "display_name": "Python 3"
    },
    "language_info": {
      "name": "python"
    }
  },
  "cells": [
    {
      "cell_type": "markdown",
      "metadata": {
        "id": "view-in-github",
        "colab_type": "text"
      },
      "source": [
        "<a href=\"https://colab.research.google.com/github/ShivaniPabba/23CSBTB30/blob/main/listtypes.ipynb\" target=\"_parent\"><img src=\"https://colab.research.google.com/assets/colab-badge.svg\" alt=\"Open In Colab\"/></a>"
      ]
    },
    {
      "cell_type": "code",
      "execution_count": 4,
      "metadata": {
        "colab": {
          "base_uri": "https://localhost:8080/"
        },
        "id": "1S3ltDWnvhcL",
        "outputId": "b2fcae52-7693-4d8b-9915-3cf99b6d7170"
      },
      "outputs": [
        {
          "output_type": "stream",
          "name": "stdout",
          "text": [
            "{2: 4, 5: 25, 3: 9, 8: 64, 6: 36}\n",
            "<class 'dict'>\n"
          ]
        }
      ],
      "source": [
        " lst={2:4,5:25,3:9,8:64,6:36}\n",
        " print(lst)\n",
        " print(type(lst))"
      ]
    },
    {
      "cell_type": "code",
      "source": [
        "lst2=(2,9,1,4,5)\n",
        "print(lst2)\n",
        "print(type(lst2))"
      ],
      "metadata": {
        "colab": {
          "base_uri": "https://localhost:8080/"
        },
        "id": "WStbj2LXw-F-",
        "outputId": "c72d9ce1-acac-4326-e534-39f7258ba150"
      },
      "execution_count": 5,
      "outputs": [
        {
          "output_type": "stream",
          "name": "stdout",
          "text": [
            "(2, 9, 1, 4, 5)\n",
            "<class 'tuple'>\n"
          ]
        }
      ]
    },
    {
      "cell_type": "code",
      "source": [
        "lst3=[4,2,7,1,9,5]\n",
        "print(lst3)\n",
        "print(type(lst3))"
      ],
      "metadata": {
        "colab": {
          "base_uri": "https://localhost:8080/"
        },
        "id": "mWfrN1JF63mE",
        "outputId": "4b5de593-4caf-4f77-d18e-c6969e16b676"
      },
      "execution_count": 6,
      "outputs": [
        {
          "output_type": "stream",
          "name": "stdout",
          "text": [
            "[4, 2, 7, 1, 9, 5]\n",
            "<class 'list'>\n"
          ]
        }
      ]
    },
    {
      "cell_type": "code",
      "source": [
        "lst4={1:\"Apple\", 2:\"Banana\", 3:\"Orange\"}\n",
        "print(lst4)\n",
        "print(type(lst4))"
      ],
      "metadata": {
        "colab": {
          "base_uri": "https://localhost:8080/"
        },
        "id": "V7xQvpFF7XZ5",
        "outputId": "3daa7b4b-390e-4b0f-c20a-6e666775f179"
      },
      "execution_count": 7,
      "outputs": [
        {
          "output_type": "stream",
          "name": "stdout",
          "text": [
            "{1: 'Apple', 2: 'Banana', 3: 'Orange'}\n",
            "<class 'dict'>\n"
          ]
        }
      ]
    },
    {
      "cell_type": "code",
      "source": [
        "lst5=\"Welcome to AIML lab\"\n",
        "print(lst5)\n",
        "print(type(lst5))"
      ],
      "metadata": {
        "colab": {
          "base_uri": "https://localhost:8080/"
        },
        "id": "uwsuWZJg9fD-",
        "outputId": "d6f1e963-8e0b-404a-cb35-1c11a1f126fd"
      },
      "execution_count": 8,
      "outputs": [
        {
          "output_type": "stream",
          "name": "stdout",
          "text": [
            "Welcome to AIML lab\n",
            "<class 'str'>\n"
          ]
        }
      ]
    },
    {
      "cell_type": "code",
      "source": [
        "lst6=2.9\n",
        "print(lst6)\n",
        "print(type(lst6))"
      ],
      "metadata": {
        "colab": {
          "base_uri": "https://localhost:8080/"
        },
        "id": "_UhqLUBz9vP7",
        "outputId": "c008a7e4-2ab7-4763-c03c-9ca0d3544cf2"
      },
      "execution_count": 9,
      "outputs": [
        {
          "output_type": "stream",
          "name": "stdout",
          "text": [
            "2.9\n",
            "<class 'float'>\n"
          ]
        }
      ]
    },
    {
      "cell_type": "code",
      "source": [
        "lst7=3j+8\n",
        "print(lst7)\n",
        "print(type(lst7))"
      ],
      "metadata": {
        "colab": {
          "base_uri": "https://localhost:8080/"
        },
        "id": "VPPtgeud9-hv",
        "outputId": "40062f1b-87d3-4b5a-e698-20b33ff27e64"
      },
      "execution_count": 10,
      "outputs": [
        {
          "output_type": "stream",
          "name": "stdout",
          "text": [
            "(8+3j)\n",
            "<class 'complex'>\n"
          ]
        }
      ]
    }
  ]
}